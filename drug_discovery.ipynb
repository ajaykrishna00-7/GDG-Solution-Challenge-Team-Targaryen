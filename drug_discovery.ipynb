{
 "cells": [
  {
   "cell_type": "code",
   "execution_count": 1,
   "metadata": {},
   "outputs": [
    {
     "ename": "ModuleNotFoundError",
     "evalue": "No module named 'xgboost'",
     "output_type": "error",
     "traceback": [
      "\u001b[1;31m---------------------------------------------------------------------------\u001b[0m",
      "\u001b[1;31mModuleNotFoundError\u001b[0m                       Traceback (most recent call last)",
      "Cell \u001b[1;32mIn[1], line 6\u001b[0m\n\u001b[0;32m      4\u001b[0m \u001b[38;5;28;01mfrom\u001b[39;00m \u001b[38;5;21;01msklearn\u001b[39;00m\u001b[38;5;21;01m.\u001b[39;00m\u001b[38;5;21;01mpreprocessing\u001b[39;00m \u001b[38;5;28;01mimport\u001b[39;00m StandardScaler\n\u001b[0;32m      5\u001b[0m \u001b[38;5;28;01mfrom\u001b[39;00m \u001b[38;5;21;01msklearn\u001b[39;00m\u001b[38;5;21;01m.\u001b[39;00m\u001b[38;5;21;01mensemble\u001b[39;00m \u001b[38;5;28;01mimport\u001b[39;00m RandomForestClassifier\n\u001b[1;32m----> 6\u001b[0m \u001b[38;5;28;01mfrom\u001b[39;00m \u001b[38;5;21;01mxgboost\u001b[39;00m \u001b[38;5;28;01mimport\u001b[39;00m XGBClassifier\n\u001b[0;32m      7\u001b[0m \u001b[38;5;28;01mfrom\u001b[39;00m \u001b[38;5;21;01mlightgbm\u001b[39;00m \u001b[38;5;28;01mimport\u001b[39;00m LGBMClassifier\n\u001b[0;32m      8\u001b[0m \u001b[38;5;28;01mfrom\u001b[39;00m \u001b[38;5;21;01msklearn\u001b[39;00m\u001b[38;5;21;01m.\u001b[39;00m\u001b[38;5;21;01mmetrics\u001b[39;00m \u001b[38;5;28;01mimport\u001b[39;00m classification_report, accuracy_score, roc_auc_score, f1_score\n",
      "\u001b[1;31mModuleNotFoundError\u001b[0m: No module named 'xgboost'"
     ]
    }
   ],
   "source": [
    "import pandas as pd\n",
    "import numpy as np\n",
    "from sklearn.model_selection import StratifiedKFold, train_test_split\n",
    "from sklearn.preprocessing import StandardScaler\n",
    "from sklearn.ensemble import RandomForestClassifier\n",
    "from xgboost import XGBClassifier\n",
    "from lightgbm import LGBMClassifier\n",
    "from sklearn.metrics import classification_report, accuracy_score, roc_auc_score, f1_score\n",
    "from imblearn.over_sampling import SMOTE\n",
    "from rdkit import Chem\n",
    "from rdkit.Chem import Descriptors\n",
    "import joblib\n",
    "import json"
   ]
  },
  {
   "cell_type": "code",
   "execution_count": null,
   "metadata": {},
   "outputs": [],
   "source": [
    "# === Load datasets ===\n",
    "chembl = pd.read_csv(\"chembl.csv\")  # Columns: SMILES, Name\n",
    "aqsol = pd.read_csv(\"curated-solubility-dataset.csv\")  # Columns include InChIKey or Name, not always SMILES\n",
    "tox21 = pd.read_csv(\"ALLPCPPREDS_080516.csv\")  # Tox21: indexed by CAS or ID, not direct SMILES\n"
   ]
  },
  {
   "cell_type": "code",
   "execution_count": null,
   "metadata": {},
   "outputs": [],
   "source": [
    "# === Canonical SMILES from ChEMBL for merging ===\n",
    "chembl['Canonical_SMILES'] = chembl['SMILES'].apply(lambda x: Chem.MolToSmiles(Chem.MolFromSmiles(x)) if Chem.MolFromSmiles(x) else None)\n"
   ]
  },
  {
   "cell_type": "code",
   "execution_count": null,
   "metadata": {},
   "outputs": [],
   "source": [
    "# === Merge carefully based on compound Name (ChEMBL) and identifier column from other datasets ===\n",
    "# You may need to map Name ↔ InChIKey or external DB if SMILES not present in Tox21/AqSolDB\n",
    "merged = chembl.merge(aqsol, left_on='Name', right_on='Name', how='inner')\n",
    "merged = merged.merge(tox21, left_on='Name', right_on='Name', how='inner')\n"
   ]
  },
  {
   "cell_type": "code",
   "execution_count": null,
   "metadata": {},
   "outputs": [],
   "source": [
    "# === Feature Extraction (RDKit Descriptors) ===\n",
    "def extract_descriptors(smiles):\n",
    "    mol = Chem.MolFromSmiles(smiles)\n",
    "    if mol is None:\n",
    "        return [0]*8\n",
    "    return [\n",
    "        Descriptors.MolWt(mol),\n",
    "        Descriptors.MolLogP(mol),\n",
    "        Descriptors.TPSA(mol),\n",
    "        Descriptors.NumHDonors(mol),\n",
    "        Descriptors.NumHAcceptors(mol),\n",
    "        Descriptors.RingCount(mol),\n",
    "        Descriptors.NumRotatableBonds(mol),\n",
    "        Descriptors.FractionCSP3(mol)\n",
    "    ]"
   ]
  },
  {
   "cell_type": "code",
   "execution_count": null,
   "metadata": {},
   "outputs": [],
   "source": [
    "merged[['MolWt','MolLogP','TPSA','HDonors','HAcceptors','Rings','RotBonds','CSP3']] = merged['Canonical_SMILES'].apply(lambda x: pd.Series(extract_descriptors(x)))\n",
    "\n",
    "# === Prepare Input/Output ===\n",
    "X = merged[['MolWt','MolLogP','TPSA','HDonors','HAcceptors','Rings','RotBonds','CSP3']]\n",
    "y = merged['toxicity_label'] if 'toxicity_label' in merged.columns else merged.iloc[:, 6]  # Fallback to a toxicity column\n",
    "\n",
    "# === Normalize Features ===\n",
    "scaler = StandardScaler()\n",
    "X_scaled = scaler.fit_transform(X)\n",
    "\n",
    "# === SMOTE for balancing ===\n",
    "sm = SMOTE(random_state=42)\n",
    "X_resampled, y_resampled = sm.fit_resample(X_scaled, y)\n"
   ]
  },
  {
   "cell_type": "code",
   "execution_count": null,
   "metadata": {},
   "outputs": [],
   "source": [
    "# === K-Fold Cross-Validation ===\n",
    "skf = StratifiedKFold(n_splits=5, shuffle=True, random_state=42)\n",
    "\n",
    "all_metrics = []\n",
    "final_model = XGBClassifier(\n",
    "    use_label_encoder=False,\n",
    "    eval_metric='logloss',\n",
    "    n_estimators=300,\n",
    "    learning_rate=0.05,\n",
    "    max_depth=8,\n",
    "    subsample=0.9,\n",
    "    colsample_bytree=0.8,\n",
    "    random_state=42,\n",
    "    n_jobs=-1\n",
    ")\n"
   ]
  },
  {
   "cell_type": "code",
   "execution_count": null,
   "metadata": {},
   "outputs": [],
   "source": [
    "for fold, (train_idx, test_idx) in enumerate(skf.split(X_resampled, y_resampled)):\n",
    "    X_train, X_test = X_resampled[train_idx], X_resampled[test_idx]\n",
    "    y_train, y_test = y_resampled[train_idx], y_resampled[test_idx]\n",
    "\n",
    "    final_model.fit(X_train, y_train)\n",
    "    y_pred = final_model.predict(X_test)\n",
    "    y_prob = final_model.predict_proba(X_test)[:, 1]\n",
    "\n",
    "    metrics = {\n",
    "        'Fold': fold+1,\n",
    "        'Accuracy': accuracy_score(y_test, y_pred),\n",
    "        'F1': f1_score(y_test, y_pred, average='macro'),\n",
    "        'ROC_AUC': roc_auc_score(y_test, y_prob)\n",
    "    }\n",
    "    all_metrics.append(metrics)\n",
    "\n",
    "# === Save Model (Final Save After K-Fold Completion) ===\n",
    "joblib.dump(final_model, \"drug_toxicity_model.pkl\")\n",
    "joblib.dump(scaler, \"scaler.pkl\")\n",
    "print(\"Model and scaler saved successfully after training.\")\n"
   ]
  },
  {
   "cell_type": "code",
   "execution_count": null,
   "metadata": {},
   "outputs": [],
   "source": [
    "def predict_and_format(smiles, compound_name=\"\"):\n",
    "    desc = extract_descriptors(smiles)\n",
    "    scaled = scaler.transform([desc])\n",
    "    prob = final_model.predict_proba(scaled)[0]\n",
    "    pred = final_model.predict(scaled)[0]\n",
    "\n",
    "    result = {\n",
    "        \"Name\": compound_name,\n",
    "        \"SMILES\": smiles,\n",
    "        \"Predicted Properties\": {\n",
    "            \"MolWt\": desc[0],\n",
    "            \"MolLogP\": desc[1],\n",
    "            \"TPSA\": desc[2],\n",
    "            \"HDonors\": desc[3],\n",
    "            \"HAcceptors\": desc[4],\n",
    "            \"RingCount\": desc[5],\n",
    "            \"Rotatable Bonds\": desc[6],\n",
    "            \"FractionCSP3\": desc[7]\n",
    "        },\n",
    "        \"Toxicity Prediction\": int(pred),\n",
    "        \"Toxicity Confidence\": float(prob[1])\n",
    "    }\n",
    "    return json.dumps(result, indent=2)\n"
   ]
  },
  {
   "cell_type": "code",
   "execution_count": null,
   "metadata": {},
   "outputs": [],
   "source": [
    "print(predict_and_format(\"c1(c2nc(N=C(N)N)sc2)cn(c(c1)C)C\", \"CHEMBL153534\"))\n"
   ]
  }
 ],
 "metadata": {
  "kernelspec": {
   "display_name": "Python 3",
   "language": "python",
   "name": "python3"
  },
  "language_info": {
   "codemirror_mode": {
    "name": "ipython",
    "version": 3
   },
   "file_extension": ".py",
   "mimetype": "text/x-python",
   "name": "python",
   "nbconvert_exporter": "python",
   "pygments_lexer": "ipython3",
   "version": "3.12.6"
  }
 },
 "nbformat": 4,
 "nbformat_minor": 2
}
